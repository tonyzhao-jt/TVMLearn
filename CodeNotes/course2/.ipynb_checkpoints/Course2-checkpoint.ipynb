{
 "cells": [
  {
   "cell_type": "markdown",
   "id": "a37c7413",
   "metadata": {},
   "source": [
    "### Reorder not allow"
   ]
  },
  {
   "cell_type": "code",
   "execution_count": 34,
   "id": "be018989",
   "metadata": {},
   "outputs": [],
   "source": [
    "import copy\n",
    "import random\n",
    "# reorder fail 21:53\n",
    "C = [0 for i in range(32 * 4)]\n",
    "C_idx = [[] for i in range(32 * 4)]\n",
    "A = [random.randrange(-5, 5) for i in range(32 * 4)]\n",
    "B = [random.randrange(-5, 5) for i in range(32 * 4)]\n",
    "for xo in range(32):\n",
    "    for xi in range(4):\n",
    "        C[xo * 4 + xi] = A[xo * 4 + xi] + B[max(xo * 4 + xi - 1, 0)]\n",
    "        C_idx[xo * 4 + xi]= [xo * 4 + xi, max(xo * 4 + xi - 1, 0)]"
   ]
  },
  {
   "cell_type": "code",
   "execution_count": 35,
   "id": "77acb587",
   "metadata": {},
   "outputs": [],
   "source": [
    "C2 = [0 for i in range(32 * 4)]\n",
    "C2_idx = [[] for i in range(32 * 4)]\n",
    "for xi in range(4):\n",
    "    for xo in range(32):\n",
    "        C2[xo * 4 + xi] = A[xo * 4 + xi] + B[max(xo * 4 + xi - 1, 0)]\n",
    "        C2_idx[xo * 4 + xi] = [xo * 4 + xi, max(xo * 4 + xi - 1, 0)]\n",
    "   "
   ]
  },
  {
   "cell_type": "code",
   "execution_count": 36,
   "id": "0b95a1f5",
   "metadata": {},
   "outputs": [],
   "source": [
    "def diff_val(l1, l2):\n",
    "    diff_list = []\n",
    "    for idx, item_l1 in enumerate(l1):\n",
    "        item_l2 = l2[idx]\n",
    "        diff_list.append(item_l2 - item_l1)\n",
    "    return diff_list"
   ]
  },
  {
   "cell_type": "code",
   "execution_count": 39,
   "id": "c7a293e3",
   "metadata": {},
   "outputs": [],
   "source": [
    "def diff_idx(l1, l2):\n",
    "    diff_list = []\n",
    "    for idx, item_l1 in enumerate(l1):\n",
    "        item_l2 = l2[idx]\n",
    "        diff_list.append([item_l2[0] - item_l1[0], item_l2[1] - item_l1[1]])\n",
    "    return diff_list"
   ]
  },
  {
   "cell_type": "code",
   "execution_count": 42,
   "id": "27f0f34b",
   "metadata": {},
   "outputs": [],
   "source": [
    "# res = sum(diff(C, C2))\n",
    "# res = diff_idx(C_idx, C2_idx)\n",
    "# both are zero, wtf?"
   ]
  },
  {
   "cell_type": "markdown",
   "id": "5915947c",
   "metadata": {},
   "source": [
    "### Toy sample TVM"
   ]
  },
  {
   "cell_type": "code",
   "execution_count": 54,
   "id": "02c77bd2",
   "metadata": {},
   "outputs": [
    {
     "name": "stdout",
     "output_type": "stream",
     "text": [
      "Looking in links: https://mlc.ai/wheels\n"
     ]
    },
    {
     "name": "stderr",
     "output_type": "stream",
     "text": [
      "ERROR: Could not find a version that satisfies the requirement mlc-ai-nightly (from versions: none)\n",
      "ERROR: No matching distribution found for mlc-ai-nightly\n"
     ]
    }
   ],
   "source": [
    "!python3 -m  pip install mlc-ai-nightly -f https://mlc.ai/wheels\n"
   ]
  },
  {
   "cell_type": "code",
   "execution_count": 56,
   "id": "6fc5642b",
   "metadata": {},
   "outputs": [
    {
     "name": "stderr",
     "output_type": "stream",
     "text": [
      "ERROR: mlc_ai_nightly-0.9.dev1661+g2b34ced6c-cp37-cp37m-win_amd64.whl is not a supported wheel on this platform.\n"
     ]
    }
   ],
   "source": [
    "# trouble for windows. use it"
   ]
  },
  {
   "cell_type": "code",
   "execution_count": null,
   "id": "b92742de",
   "metadata": {},
   "outputs": [],
   "source": []
  }
 ],
 "metadata": {
  "kernelspec": {
   "display_name": "Python 3 (ipykernel)",
   "language": "python",
   "name": "python3"
  },
  "language_info": {
   "codemirror_mode": {
    "name": "ipython",
    "version": 3
   },
   "file_extension": ".py",
   "mimetype": "text/x-python",
   "name": "python",
   "nbconvert_exporter": "python",
   "pygments_lexer": "ipython3",
   "version": "3.10.0"
  }
 },
 "nbformat": 4,
 "nbformat_minor": 5
}
