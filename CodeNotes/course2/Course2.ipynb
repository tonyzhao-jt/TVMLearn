{
  "cells": [
    {
      "cell_type": "markdown",
      "id": "a37c7413",
      "metadata": {
        "id": "a37c7413"
      },
      "source": [
        "### Reorder not allow"
      ]
    },
    {
      "cell_type": "code",
      "execution_count": 15,
      "id": "be018989",
      "metadata": {
        "id": "be018989"
      },
      "outputs": [],
      "source": [
        "import copy\n",
        "import random\n",
        "# reorder fail 21:53\n",
        "C = [0 for i in range(32 * 4)]\n",
        "C_idx = [[] for i in range(32 * 4)]\n",
        "A = [random.randrange(-5, 5) for i in range(32 * 4)]\n",
        "B = [random.randrange(-5, 5) for i in range(32 * 4)]\n",
        "for xo in range(32):\n",
        "    for xi in range(4):\n",
        "        C[xo * 4 + xi] = A[xo * 4 + xi] + B[max(xo * 4 + xi - 1, 0)]\n",
        "        C_idx[xo * 4 + xi]= [xo * 4 + xi, max(xo * 4 + xi - 1, 0)]"
      ]
    },
    {
      "cell_type": "code",
      "execution_count": 16,
      "id": "77acb587",
      "metadata": {
        "id": "77acb587"
      },
      "outputs": [],
      "source": [
        "C2 = [0 for i in range(32 * 4)]\n",
        "C2_idx = [[] for i in range(32 * 4)]\n",
        "for xi in range(4):\n",
        "    for xo in range(32):\n",
        "        C2[xo * 4 + xi] = A[xo * 4 + xi] + B[max(xo * 4 + xi - 1, 0)]\n",
        "        C2_idx[xo * 4 + xi] = [xo * 4 + xi, max(xo * 4 + xi - 1, 0)]\n",
        "   "
      ]
    },
    {
      "cell_type": "code",
      "execution_count": 17,
      "id": "0b95a1f5",
      "metadata": {
        "id": "0b95a1f5"
      },
      "outputs": [],
      "source": [
        "def diff_val(l1, l2):\n",
        "    diff_list = []\n",
        "    for idx, item_l1 in enumerate(l1):\n",
        "        item_l2 = l2[idx]\n",
        "        diff_list.append(item_l2 - item_l1)\n",
        "    return diff_list"
      ]
    },
    {
      "cell_type": "code",
      "execution_count": 18,
      "id": "c7a293e3",
      "metadata": {
        "id": "c7a293e3"
      },
      "outputs": [],
      "source": [
        "def diff_idx(l1, l2):\n",
        "    diff_list = []\n",
        "    for idx, item_l1 in enumerate(l1):\n",
        "        item_l2 = l2[idx]\n",
        "        diff_list.append([item_l2[0] - item_l1[0], item_l2[1] - item_l1[1]])\n",
        "    return diff_list"
      ]
    },
    {
      "cell_type": "code",
      "execution_count": 19,
      "id": "27f0f34b",
      "metadata": {
        "id": "27f0f34b"
      },
      "outputs": [],
      "source": [
        "# res = sum(diff(C, C2))\n",
        "# res = diff_idx(C_idx, C2_idx)\n",
        "# both are zero, wtf?"
      ]
    },
    {
      "cell_type": "markdown",
      "id": "5915947c",
      "metadata": {
        "id": "5915947c"
      },
      "source": [
        "### Toy sample TVM"
      ]
    },
    {
      "cell_type": "code",
      "execution_count": 20,
      "id": "02c77bd2",
      "metadata": {
        "id": "02c77bd2",
        "outputId": "620ca245-b3e4-4f9e-8d41-e56157b3ea31",
        "colab": {
          "base_uri": "https://localhost:8080/"
        }
      },
      "outputs": [
        {
          "output_type": "stream",
          "name": "stdout",
          "text": [
            "Looking in indexes: https://pypi.org/simple, https://us-python.pkg.dev/colab-wheels/public/simple/\n",
            "Looking in links: https://mlc.ai/wheels\n",
            "Requirement already satisfied: mlc-ai-nightly in /usr/local/lib/python3.7/dist-packages (0.9.dev1661+g2b34ced6c)\n",
            "Requirement already satisfied: scipy in /usr/local/lib/python3.7/dist-packages (from mlc-ai-nightly) (1.4.1)\n",
            "Requirement already satisfied: tornado in /usr/local/lib/python3.7/dist-packages (from mlc-ai-nightly) (5.1.1)\n",
            "Requirement already satisfied: attrs in /usr/local/lib/python3.7/dist-packages (from mlc-ai-nightly) (21.4.0)\n",
            "Requirement already satisfied: synr==0.6.0 in /usr/local/lib/python3.7/dist-packages (from mlc-ai-nightly) (0.6.0)\n",
            "Requirement already satisfied: psutil in /usr/local/lib/python3.7/dist-packages (from mlc-ai-nightly) (5.4.8)\n",
            "Requirement already satisfied: decorator in /usr/local/lib/python3.7/dist-packages (from mlc-ai-nightly) (4.4.2)\n",
            "Requirement already satisfied: cloudpickle in /usr/local/lib/python3.7/dist-packages (from mlc-ai-nightly) (1.3.0)\n",
            "Requirement already satisfied: numpy in /usr/local/lib/python3.7/dist-packages (from mlc-ai-nightly) (1.21.6)\n"
          ]
        }
      ],
      "source": [
        "!python3 -m  pip install mlc-ai-nightly -f https://mlc.ai/wheels\n"
      ]
    },
    {
      "cell_type": "code",
      "execution_count": 21,
      "id": "b92742de",
      "metadata": {
        "id": "b92742de"
      },
      "outputs": [],
      "source": [
        "import numpy as np\n",
        "import tvm\n",
        "from tvm.ir.module import IRModule\n",
        "from tvm.script import tir as T"
      ]
    },
    {
      "cell_type": "code",
      "source": [
        "@tvm.script.ir_module\n",
        "class MyModule:\n",
        "    @T.prim_func\n",
        "    def main(A: T.Buffer[128, \"float32\"],\n",
        "             B: T.Buffer[128, \"float32\"],\n",
        "             C: T.Buffer[128, \"float32\"]):\n",
        "        # extra annotations for the function\n",
        "        T.func_attr({\"global_symbol\": \"main\", \"tir.noalias\": True})\n",
        "        for i in range(128):\n",
        "            with T.block(\"C\"):\n",
        "                # declare a data parallel iterator on spatial domain\n",
        "                vi = T.axis.spatial(128, i)\n",
        "                C[vi] = A[vi] + B[vi]"
      ],
      "metadata": {
        "id": "rNbu3k8T-Ygp"
      },
      "id": "rNbu3k8T-Ygp",
      "execution_count": 22,
      "outputs": []
    },
    {
      "cell_type": "code",
      "source": [
        "sch = tvm.tir.Schedule(MyModule)"
      ],
      "metadata": {
        "id": "YUDJVP0M-8kA"
      },
      "id": "YUDJVP0M-8kA",
      "execution_count": 23,
      "outputs": []
    },
    {
      "cell_type": "code",
      "source": [
        "block_c = sch.get_block(\"C\")"
      ],
      "metadata": {
        "id": "GaQ8YkXB_EY5"
      },
      "id": "GaQ8YkXB_EY5",
      "execution_count": 24,
      "outputs": []
    },
    {
      "cell_type": "code",
      "source": [
        "i, = sch.get_loops(block_c)"
      ],
      "metadata": {
        "id": "FAOvoIcA_Je7"
      },
      "id": "FAOvoIcA_Je7",
      "execution_count": 25,
      "outputs": []
    },
    {
      "cell_type": "code",
      "source": [
        "from tvm import te\n",
        "\n",
        "M = 1024\n",
        "K = 1024\n",
        "N = 1024\n",
        "\n",
        "# The default tensor type in tvm\n",
        "dtype = \"float32\"\n",
        "\n",
        "target = \"llvm\"\n",
        "dev = tvm.device(target, 0)\n",
        "\n",
        "# Algorithm\n",
        "k = te.reduce_axis((0, K), \"k\")\n",
        "A = te.placeholder((M, K), name=\"A\")\n",
        "B = te.placeholder((K, N), name=\"B\")\n",
        "C = te.compute((M, N), lambda m, n: te.sum(A[m, k] * B[k, n], axis=k), name=\"C\")\n",
        "\n",
        "# Default schedule\n",
        "func = te.create_prim_func([A, B, C])\n",
        "func = func.with_attr(\"global_symbol\", \"main\")\n",
        "ir_module = IRModule({\"main\": func})\n",
        "print(ir_module.script())\n",
        "\n",
        "\n",
        "func = tvm.build(ir_module, target=\"llvm\")  # The module for CPU backends.\n",
        "\n",
        "a = tvm.nd.array(np.random.rand(M, K).astype(dtype), dev)\n",
        "b = tvm.nd.array(np.random.rand(K, N).astype(dtype), dev)\n",
        "c = tvm.nd.array(np.zeros((M, N), dtype=dtype), dev)\n",
        "func(a, b, c)\n",
        "\n",
        "evaluator = func.time_evaluator(func.entry_name, dev, number=1)\n",
        "print(\"Baseline: %f\" % evaluator(a, b, c).mean)"
      ],
      "metadata": {
        "id": "lyRBhurmM2RT",
        "outputId": "dd01220c-41bc-44c0-978b-c3e772b6c9f6",
        "colab": {
          "base_uri": "https://localhost:8080/"
        }
      },
      "id": "lyRBhurmM2RT",
      "execution_count": 26,
      "outputs": [
        {
          "output_type": "stream",
          "name": "stdout",
          "text": [
            "@tvm.script.ir_module\n",
            "class Module:\n",
            "    @tir.prim_func\n",
            "    def func(A: tir.Buffer[(1024, 1024), \"float32\"], B: tir.Buffer[(1024, 1024), \"float32\"], C: tir.Buffer[(1024, 1024), \"float32\"]) -> None:\n",
            "        # function attr dict\n",
            "        tir.func_attr({\"global_symbol\": \"main\", \"tir.noalias\": True})\n",
            "        # body\n",
            "        # with tir.block(\"root\")\n",
            "        for i0, i1, i2 in tir.grid(1024, 1024, 1024):\n",
            "            with tir.block(\"C\"):\n",
            "                m, n, k = tir.axis.remap(\"SSR\", [i0, i1, i2])\n",
            "                tir.reads(A[m, k], B[k, n])\n",
            "                tir.writes(C[m, n])\n",
            "                with tir.init():\n",
            "                    C[m, n] = tir.float32(0)\n",
            "                C[m, n] = C[m, n] + A[m, k] * B[k, n]\n",
            "    \n",
            "Baseline: 4.361387\n"
          ]
        }
      ]
    },
    {
      "cell_type": "code",
      "source": [
        "sch = tvm.tir.Schedule(ir_module)\n",
        "type(sch)\n",
        "block_c = sch.get_block(\"C\")\n",
        "# Get loops surrounding the block\n",
        "(y, x, k) = sch.get_loops(block_c)\n",
        "block_size = 32\n",
        "yo, yi = sch.split(y, [None, block_size])\n",
        "xo, xi = sch.split(x, [None, block_size])\n",
        "\n",
        "sch.reorder(yo, xo, k, yi, xi)\n",
        "print(sch.mod.script())\n",
        "\n",
        "func = tvm.build(sch.mod, target=\"llvm\")  # The module for CPU backends.\n",
        "\n",
        "c = tvm.nd.array(np.zeros((M, N), dtype=dtype), dev)\n",
        "func(a, b, c)\n",
        "\n",
        "evaluator = func.time_evaluator(func.entry_name, dev, number=1)\n",
        "print(\"after transformation: %f\" % evaluator(a, b, c).mean)"
      ],
      "metadata": {
        "id": "4ClSRfXfM3Oq",
        "outputId": "dae6fd21-ba9f-42c6-a808-8b842eac98c8",
        "colab": {
          "base_uri": "https://localhost:8080/"
        }
      },
      "id": "4ClSRfXfM3Oq",
      "execution_count": 27,
      "outputs": [
        {
          "output_type": "stream",
          "name": "stdout",
          "text": [
            "@tvm.script.ir_module\n",
            "class Module:\n",
            "    @tir.prim_func\n",
            "    def func(A: tir.Buffer[(1024, 1024), \"float32\"], B: tir.Buffer[(1024, 1024), \"float32\"], C: tir.Buffer[(1024, 1024), \"float32\"]) -> None:\n",
            "        # function attr dict\n",
            "        tir.func_attr({\"global_symbol\": \"main\", \"tir.noalias\": True})\n",
            "        # body\n",
            "        # with tir.block(\"root\")\n",
            "        for i0_0, i1_0, i2, i0_1, i1_1 in tir.grid(32, 32, 1024, 32, 32):\n",
            "            with tir.block(\"C\"):\n",
            "                m = tir.axis.spatial(1024, i0_0 * 32 + i0_1)\n",
            "                n = tir.axis.spatial(1024, i1_0 * 32 + i1_1)\n",
            "                k = tir.axis.reduce(1024, i2)\n",
            "                tir.reads(A[m, k], B[k, n])\n",
            "                tir.writes(C[m, n])\n",
            "                with tir.init():\n",
            "                    C[m, n] = tir.float32(0)\n",
            "                C[m, n] = C[m, n] + A[m, k] * B[k, n]\n",
            "    \n",
            "after transformation: 0.390557\n"
          ]
        }
      ]
    },
    {
      "cell_type": "code",
      "source": [
        "sch.parallel(yo)\n",
        "print(sch.mod.script())\n",
        "func = tvm.build(sch.mod, target=\"llvm\")"
      ],
      "metadata": {
        "id": "c8VPH09bM6sz",
        "outputId": "42f30a0e-b859-41f3-b09f-32eb7d02e032",
        "colab": {
          "base_uri": "https://localhost:8080/"
        }
      },
      "id": "c8VPH09bM6sz",
      "execution_count": 28,
      "outputs": [
        {
          "output_type": "stream",
          "name": "stdout",
          "text": [
            "@tvm.script.ir_module\n",
            "class Module:\n",
            "    @tir.prim_func\n",
            "    def func(A: tir.Buffer[(1024, 1024), \"float32\"], B: tir.Buffer[(1024, 1024), \"float32\"], C: tir.Buffer[(1024, 1024), \"float32\"]) -> None:\n",
            "        # function attr dict\n",
            "        tir.func_attr({\"global_symbol\": \"main\", \"tir.noalias\": True})\n",
            "        # body\n",
            "        # with tir.block(\"root\")\n",
            "        for i0_0 in tir.parallel(32):\n",
            "            for i1_0, i2, i0_1, i1_1 in tir.grid(32, 1024, 32, 32):\n",
            "                with tir.block(\"C\"):\n",
            "                    m = tir.axis.spatial(1024, i0_0 * 32 + i0_1)\n",
            "                    n = tir.axis.spatial(1024, i1_0 * 32 + i1_1)\n",
            "                    k = tir.axis.reduce(1024, i2)\n",
            "                    tir.reads(A[m, k], B[k, n])\n",
            "                    tir.writes(C[m, n])\n",
            "                    with tir.init():\n",
            "                        C[m, n] = tir.float32(0)\n",
            "                    C[m, n] = C[m, n] + A[m, k] * B[k, n]\n",
            "    \n"
          ]
        }
      ]
    }
  ],
  "metadata": {
    "kernelspec": {
      "display_name": "Python 3 (ipykernel)",
      "language": "python",
      "name": "python3"
    },
    "language_info": {
      "codemirror_mode": {
        "name": "ipython",
        "version": 3
      },
      "file_extension": ".py",
      "mimetype": "text/x-python",
      "name": "python",
      "nbconvert_exporter": "python",
      "pygments_lexer": "ipython3",
      "version": "3.10.0"
    },
    "colab": {
      "name": "Course2.ipynb",
      "provenance": []
    }
  },
  "nbformat": 4,
  "nbformat_minor": 5
}